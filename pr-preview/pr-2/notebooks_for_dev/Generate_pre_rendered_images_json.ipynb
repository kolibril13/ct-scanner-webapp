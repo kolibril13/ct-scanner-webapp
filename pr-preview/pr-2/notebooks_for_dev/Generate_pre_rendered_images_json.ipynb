{
 "cells": [
  {
   "cell_type": "code",
   "execution_count": null,
   "metadata": {},
   "outputs": [],
   "source": [
    "import matplotlib.pyplot as plt\n",
    "import numpy as np\n",
    "from PIL import Image\n",
    "from skimage.color import rgb2gray, rgba2rgb\n",
    "from skimage.transform import iradon, radon\n",
    "import json\n",
    "from json import JSONEncoder\n",
    "from pathlib import Path\n",
    "\n",
    "class NumpyArrayEncoder(JSONEncoder):\n",
    "    def default(self, obj):\n",
    "        if isinstance(obj, np.ndarray):\n",
    "            return obj.tolist()\n",
    "        return JSONEncoder.default(self, obj)\n",
    "\n",
    "%config InlineBackend.print_figure_kwargs = {'pad_inches':0} # NOT\n",
    "\n",
    "def show(img, cmap=\"gray\"):\n",
    "    plt.imshow(img, cmap)\n",
    "    plt.axis(\"off\")"
   ]
  },
  {
   "cell_type": "code",
   "execution_count": null,
   "metadata": {},
   "outputs": [],
   "source": [
    "name = \"ct_slice_730_upper_legs.png\"\n",
    "# name = \"ct_slice_1342_breast.png\"\n",
    "# name = \"ct_slice_1542_teeth.png\"\n",
    "\n",
    "image_data = Image.open(name)\n",
    "image_data = np.array(image_data.convert(\"RGBA\"))\n",
    "image = rgb2gray(1 - rgba2rgb(image_data))\n",
    "image.min(), image.max()"
   ]
  },
  {
   "cell_type": "markdown",
   "metadata": {},
   "source": [
    "# Continuous"
   ]
  },
  {
   "cell_type": "code",
   "execution_count": null,
   "metadata": {},
   "outputs": [],
   "source": [
    "theta = np.linspace(0.0 + 90, 180.0 + 90, max(image.shape), endpoint=False)\n",
    "sinogram = radon(image, theta=theta)\n",
    "plt.imshow(-iradon(sinogram, theta=theta, filter_name=\"shepp-logan\"), cmap=\"gray\")\n",
    "plt.axis(\"off\")"
   ]
  },
  {
   "cell_type": "code",
   "execution_count": null,
   "metadata": {},
   "outputs": [],
   "source": [
    "imgs = []\n",
    "for i in range(0, 20):\n",
    "    fromangle = 18 * i\n",
    "    toangle = 18 * i + 18\n",
    "    thetaX = theta[fromangle:toangle]\n",
    "    sinogramX = sinogram[:, fromangle:toangle]\n",
    "    filtered_imX = iradon(sinogramX, theta=thetaX, filter_name=\"shepp-logan\")\n",
    "    imgs.append(-filtered_imX)\n",
    "\n",
    "\n",
    "img_final = imgs[0] * 0\n",
    "\n",
    "for im in imgs:\n",
    "    img_final += im\n",
    "\n",
    "plt.imshow(img_final, cmap=\"gray\")\n",
    "#plt.imshow(np.clip((img_final) / 20, -1, 0), cmap=\"gray\")\n",
    "plt.axis(\"off\")"
   ]
  },
  {
   "cell_type": "code",
   "execution_count": null,
   "metadata": {},
   "outputs": [],
   "source": [
    "# prepare json\n",
    "\n",
    "json_datastack = []\n",
    "for d in imgs:\n",
    "    data = np.around(d, decimals=2)\n",
    "    json_datastack.append(data)\n",
    "\n",
    "keys = []\n",
    "for i in range(0, len(imgs)):\n",
    "    keys.append(f\"img_{i+1:0>3}\")\n",
    "\n",
    "json_content = {}\n",
    "json_content[\"parameter_for_display\"] = {\"zoom\":70 , \"canvas_size\": (360,360)}\n",
    "json_content[\"imgs\"] = dict(zip(keys, json_datastack))\n",
    "# save json\n",
    "\n",
    "\n",
    "with Path(f\"../{name[:-4]}_continuous.json\").open(\"w\") as jsonFile:\n",
    "    json.dump(\n",
    "        json_content,\n",
    "        jsonFile,\n",
    "        indent=0,\n",
    "        sort_keys=False,\n",
    "        cls=NumpyArrayEncoder,\n",
    "    )\n",
    "\n",
    "json_content"
   ]
  },
  {
   "cell_type": "markdown",
   "metadata": {},
   "source": [
    "## Discrete"
   ]
  },
  {
   "cell_type": "code",
   "execution_count": null,
   "metadata": {},
   "outputs": [],
   "source": [
    "imgs = []\n",
    "for i in range(0, 20):\n",
    "    fromangle = 18 * i\n",
    "    toangle = 18 * i + 1\n",
    "    thetaX = theta[fromangle:toangle]\n",
    "    sinogramX = sinogram[:, fromangle:toangle]\n",
    "    filtered_imX = iradon(sinogramX, theta=thetaX, filter_name=\"shepp-logan\")\n",
    "    imgs.append(-filtered_imX)\n",
    "\n",
    "\n",
    "img_final = imgs[0] * 0\n",
    "\n",
    "for im in imgs:\n",
    "    img_final += im\n",
    "\n",
    "#plt.imshow(img_final, cmap=\"gray\")\n",
    "plt.imshow(np.clip((img_final) / 20, -1, 0), cmap=\"gray\")\n",
    "plt.axis(\"off\")"
   ]
  },
  {
   "cell_type": "code",
   "execution_count": null,
   "metadata": {},
   "outputs": [],
   "source": [
    "# prepare json\n",
    "\n",
    "json_datastack = []\n",
    "for d in imgs:\n",
    "    data = np.around(d, decimals=2)\n",
    "    json_datastack.append(data)\n",
    "\n",
    "keys = []\n",
    "for i in range(0, len(imgs)):\n",
    "    keys.append(f\"img_{i+1:0>3}\")\n",
    "\n",
    "json_content = {}\n",
    "json_content[\"parameter_for_display\"] = {\"zoom\":70 , \"canvas_size\": (360,360)}\n",
    "json_content[\"imgs\"] = dict(zip(keys, json_datastack))\n",
    "# save json\n",
    "\n",
    "\n",
    "with Path(\"legs_discrete.json\").open(\"w\") as jsonFile:\n",
    "    json.dump(\n",
    "        json_content,\n",
    "        jsonFile,\n",
    "        indent=0,\n",
    "        sort_keys=False,\n",
    "        cls=NumpyArrayEncoder,\n",
    "    )\n",
    "json_content"
   ]
  },
  {
   "cell_type": "code",
   "execution_count": null,
   "metadata": {},
   "outputs": [],
   "source": []
  }
 ],
 "metadata": {
  "kernelspec": {
   "display_name": "Python 3.10.5 ('emoji_ct_env': venv)",
   "language": "python",
   "name": "python3"
  },
  "language_info": {
   "codemirror_mode": {
    "name": "ipython",
    "version": 3
   },
   "file_extension": ".py",
   "mimetype": "text/x-python",
   "name": "python",
   "nbconvert_exporter": "python",
   "pygments_lexer": "ipython3",
   "version": "3.10.7"
  },
  "orig_nbformat": 4,
  "vscode": {
   "interpreter": {
    "hash": "8577a7aa05ef64187f63f73d3e70962c7cf588ca72dfe5db8dfbf38096e377a6"
   }
  }
 },
 "nbformat": 4,
 "nbformat_minor": 2
}
