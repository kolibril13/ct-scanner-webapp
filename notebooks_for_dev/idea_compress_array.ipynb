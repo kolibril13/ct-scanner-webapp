{
 "cells": [
  {
   "cell_type": "code",
   "execution_count": 1,
   "metadata": {},
   "outputs": [
    {
     "name": "stdout",
     "output_type": "stream",
     "text": [
      "compressed\n",
      "789c5dd1ad6a42011806e0e1356c691e2fc0e0d031306810264cc119ad0b6b636d498b60310863168b455810af411d6c080611b19bfc29e6b16031ec39e5bce5e1850fbef05e5efca7c12ebfd863890ba6f9c4225f18638d53bef39e2d5e71c81cd77ce523ef786493fd880f7ce31f772c73cb55e4df77a4b759e78159de32e08919ce98629e1b16586587e13e497ef097232e39e70fe3dcf393e19ed71cf086094e586110b97be69867ef7e24ad\n"
     ]
    }
   ],
   "source": [
    "import numpy as np \n",
    "import base64\n",
    "import zlib\n",
    "import requests\n",
    "import binascii\n",
    "\n",
    "frame = np.random.randint(0,255,(5,5,3)) # dummy rgb image\n",
    "# compress\n",
    "data = zlib.compress(frame)\n",
    "data = binascii.hexlify(data)\n",
    "data = data.decode('UTF-8')\n",
    "print('compressed')\n",
    "print(data)"
   ]
  },
  {
   "cell_type": "code",
   "execution_count": null,
   "metadata": {},
   "outputs": [],
   "source": []
  }
 ],
 "metadata": {
  "kernelspec": {
   "display_name": "Python 3.10.5 ('emoji_ct_env': venv)",
   "language": "python",
   "name": "python3"
  },
  "language_info": {
   "codemirror_mode": {
    "name": "ipython",
    "version": 3
   },
   "file_extension": ".py",
   "mimetype": "text/x-python",
   "name": "python",
   "nbconvert_exporter": "python",
   "pygments_lexer": "ipython3",
   "version": "3.10.5"
  },
  "orig_nbformat": 4,
  "vscode": {
   "interpreter": {
    "hash": "8577a7aa05ef64187f63f73d3e70962c7cf588ca72dfe5db8dfbf38096e377a6"
   }
  }
 },
 "nbformat": 4,
 "nbformat_minor": 2
}
